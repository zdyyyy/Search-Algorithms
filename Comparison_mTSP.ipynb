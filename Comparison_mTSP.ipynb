{
 "cells": [
  {
   "cell_type": "code",
   "execution_count": 1,
   "metadata": {},
   "outputs": [],
   "source": [
    "import math, random, time, copy\n",
    "import matplotlib.pyplot as plt\n",
    "import numpy as np\n",
    "from scipy.spatial.distance import pdist, squareform\n",
    "import csv"
   ]
  },
  {
   "cell_type": "code",
   "execution_count": 3,
   "metadata": {},
   "outputs": [],
   "source": [
    "def parse_cvrp_file(lines):\n",
    "    customers = []\n",
    "    distances = []\n",
    "    demands = []\n",
    "    depots = []\n",
    "    capacity = None\n",
    "\n",
    "    current_section = None\n",
    "    for line in lines:\n",
    "        line = line.strip()\n",
    "        if line.startswith(\"CAPACITY\"):\n",
    "            capacity = int(line.split(\":\")[1].strip())\n",
    "            continue\n",
    "        elif line.startswith(\"NODE_COORD_SECTION\"):\n",
    "            current_section = \"customers\"\n",
    "            continue\n",
    "        elif line.startswith(\"DEMAND_SECTION\"):\n",
    "            current_section = \"demands\"\n",
    "            continue\n",
    "        elif line.startswith(\"DEPOT_SECTION\"):\n",
    "            current_section = \"depots\"\n",
    "            continue\n",
    "        elif line == \"-1\":\n",
    "            current_section = None\n",
    "            continue\n",
    "\n",
    "        if current_section == \"customers\":\n",
    "            parts = line.split()\n",
    "            customers.append([int(parts[0]),int(float(parts[1])),int(float(parts[2]))])\n",
    "        elif current_section == \"demands\":\n",
    "            parts = line.split()\n",
    "            demands.append([int(parts[0]),int(float(parts[1]))])\n",
    "        elif current_section == \"depots\":\n",
    "            parts = line.split()\n",
    "            depots.append(int(parts[0]))\n",
    "    for i in range(len(customers)):\n",
    "        distances.append([])\n",
    "        for j in range(len(customers)):\n",
    "            if i<=j:\n",
    "                distances[i].append(math.sqrt((customers[i][1]-customers[j][1])**2+(customers[i][2]-customers[j][2])**2))\n",
    "            else:\n",
    "                distances[i].append(distances[j][i])\n",
    "\n",
    "    return customers, distances, demands, capacity, depots\n",
    "\n",
    "dataset_name = \"eil23.vrp\"\n",
    "# dataset_name = \"eil51.vrp\"  \n",
    "# dataset_name = \"eilC76.vrp\"\n",
    " \n",
    "with open(dataset_name, 'r') as city_data:\n",
    "    lines = city_data.readlines()\n",
    "\n",
    "cities, distances, demands, capacity, depots = parse_cvrp_file(lines)"
   ]
  },
  {
   "cell_type": "code",
   "execution_count": 3,
   "metadata": {},
   "outputs": [],
   "source": [
    "class GA_mTSP:\n",
    "    def __init__(self, customers, distances, demands, depots, capacity, num_salesmen, population_size=10, crossover_rate = 0.9, mutation_rate=0.1, max_generations=100):\n",
    "        self.customers = customers\n",
    "        self.distances = distances\n",
    "        self.demands = demands\n",
    "        self.depots = depots\n",
    "        self.capacity = capacity\n",
    "        self.num_salesmen = num_salesmen\n",
    "        self.population_size = population_size\n",
    "        self.crossover_rate = crossover_rate\n",
    "        self.mutation_rate = mutation_rate\n",
    "        self.max_generations = max_generations\n",
    "        self.population = self.initialize_population()\n",
    "        self.best_solution = None\n",
    "        self.best_distance = float('inf')\n",
    "        self.fitness_history = []\n",
    "\n",
    "    def initialize_population(self):\n",
    "        # Initialize population with random solutions\n",
    "        population = []\n",
    "        for _ in range(self.population_size):\n",
    "            solution = self.generate_random_solution()\n",
    "            population.append(solution)\n",
    "        return population\n",
    "\n",
    "    def generate_random_solution(self):\n",
    "        # Generate a random solution for the mTSP\n",
    "        solution = []\n",
    "        unvisited = list(item[0] for item in self.customers)\n",
    "        unvisited.remove(self.depots[0])\n",
    "        random.shuffle(unvisited)\n",
    "        solution = [self.depots[0]] + unvisited + [self.depots[0]]\n",
    "        return solution\n",
    "\n",
    "    def calculate_distance(self, solution):\n",
    "        # Calculate total distance for a solution (same as in Tabu Search)\n",
    "        total_distance = 0.0\n",
    "        num_customers_per_salesman = (len(self.customers)-1) // self.num_salesmen\n",
    "        for i in range(self.num_salesmen):\n",
    "            start = i * num_customers_per_salesman\n",
    "            end = (i + 1) * num_customers_per_salesman if i != self.num_salesmen - 1 else len(self.customers)\n",
    "            total_distance += self.distances[self.depots[0] - 1][solution[start] - 1]\n",
    "            for j in range(start, end - 1):\n",
    "                total_distance += self.distances[solution[j] - 1][solution[j + 1] - 1]\n",
    "            total_distance += self.distances[solution[end - 1] - 1][self.depots[0] - 1]\n",
    "        return total_distance\n",
    "\n",
    "    def selection(self):\n",
    "        # Tournament selection\n",
    "        tournament_size = 5\n",
    "        selected_parents = []\n",
    "        for _ in range(self.population_size):\n",
    "            tournament = random.sample(self.population, tournament_size)\n",
    "            best = min(tournament, key=self.calculate_distance)\n",
    "            selected_parents.append(best)\n",
    "        return selected_parents\n",
    "\n",
    "    def crossover(self, parent1, parent2):\n",
    "        # Ordered crossover to produce two children\n",
    "        if random.random() < self.crossover_rate:\n",
    "            start, end = sorted(random.sample(range(len(parent1)), 2))\n",
    "\n",
    "            # Create first child\n",
    "            child1 = [None] * len(parent1)\n",
    "            child1[start:end+1] = parent1[start:end+1]\n",
    "            child1_remaining = [item for item in parent2 if item not in child1[start:end+1]]\n",
    "            child1 = child1_remaining[:start] + child1[start:end+1] + child1_remaining[start:]\n",
    "\n",
    "            # Create second child\n",
    "            child2 = [None] * len(parent2)\n",
    "            child2[start:end+1] = parent2[start:end+1]\n",
    "            child2_remaining = [item for item in parent1 if item not in child2[start:end+1]]\n",
    "            child2 = child2_remaining[:start] + child2[start:end+1] + child2_remaining[start:]\n",
    "\n",
    "            return child1, child2\n",
    "        else:\n",
    "            return parent1, parent2\n",
    "\n",
    "    def mutation(self, solution):\n",
    "        # Swap mutation\n",
    "        if random.random() < self.mutation_rate:\n",
    "            idx1, idx2 = random.sample(range(len(solution)), 2)\n",
    "            solution[idx1], solution[idx2] = solution[idx2], solution[idx1]\n",
    "\n",
    "\n",
    "    def run(self):\n",
    "        for _ in range(self.max_generations):\n",
    "            # Select parents\n",
    "            parents = self.selection()\n",
    "            # Generate next generation\n",
    "            new_population = []\n",
    "            for i in range(0, len(parents), 2):\n",
    "                offspring1, offspring2 = self.crossover(parents[i], parents[i+1])\n",
    "                new_population.extend([offspring1, offspring2])\n",
    "            # Apply mutation\n",
    "            for individual in new_population:\n",
    "                self.mutation(individual)\n",
    "            self.population = new_population\n",
    "            # self.evaluate_population()\n",
    "            for solution in self.population:\n",
    "                distance = self.calculate_distance(solution)\n",
    "                if distance < self.best_distance:\n",
    "                    self.best_distance = distance\n",
    "                    self.best_solution = solution\n",
    "            self.fitness_history.append(self.best_distance)\n",
    "        return self.best_solution, self.best_distance, self.fitness_history\n"
   ]
  },
  {
   "cell_type": "code",
   "execution_count": 4,
   "metadata": {},
   "outputs": [
    {
     "data": {
      "text/plain": [
       "557.0910374988742"
      ]
     },
     "execution_count": 4,
     "metadata": {},
     "output_type": "execute_result"
    }
   ],
   "source": [
    "# ga = GA_mTSP(cities, distances, demands, depots, capacity, 3, population_size=500, crossover_rate = 0.9, mutation_rate=0.2, max_generations=1000) #eil23\n",
    "ga = GA_mTSP(cities, distances, demands, depots, capacity, 3, population_size=500, crossover_rate = 0.9, mutation_rate=0.1, max_generations=1000) #eil51\n",
    "# ga = GA_mTSP(cities, distances, demands, depots, capacity, 3, population_size=1000, crossover_rate = 0.9, mutation_rate=0.1, max_generations=1000) #eil76\n",
    "best_solution, best_distance,fitness_history = ga.run()\n",
    "best_distance"
   ]
  },
  {
   "cell_type": "code",
   "execution_count": 5,
   "metadata": {},
   "outputs": [
    {
     "data": {
      "image/png": "[encoded data removed]",
      "text/plain": [
       "<Figure size 640x480 with 1 Axes>"
      ]
     },
     "metadata": {},
     "output_type": "display_data"
    }
   ],
   "source": [
    "plt.plot(fitness_history,label = 'GA')\n",
    "plt.title('Algorithm')\n",
    "plt.xlabel('Iteration')\n",
    "plt.ylabel('Best Fitness (distances)')\n",
    "plt.legend()\n",
    "plt.show()"
   ]
  },
  {
   "cell_type": "code",
   "execution_count": 4,
   "metadata": {},
   "outputs": [],
   "source": [
    "class PSO_mTSP:\n",
    "    def __init__(self, customers, distances, demands, depots, capacity, num_salesmen, w,c1,c2,num_particles=30, max_iterations=20):\n",
    "        self.customers = customers\n",
    "        self.distances = distances\n",
    "        self.demands = demands\n",
    "        self.depots = depots\n",
    "        self.capacity = capacity\n",
    "        self.num_salesmen = num_salesmen\n",
    "        self.num_particles = num_particles\n",
    "        self.w = w\n",
    "        self.c1 = c1\n",
    "        self.c2 = c2\n",
    "        self.max_iterations = max_iterations\n",
    "        self.particles = self.initialize_particles()\n",
    "        self.global_best = self.get_global_best()\n",
    "        self.velocity = [[random.uniform(-1, 1) for _ in range(len(customers))] for _ in range(num_particles)]\n",
    "        self.fitness_history = []\n",
    "\n",
    "    def initialize_particles(self):\n",
    "        # Initialize particles with random solutions\n",
    "        particles = []\n",
    "        for _ in range(self.num_particles):\n",
    "            particle = self.initial_solution(mode='random')\n",
    "            particles.append({'position': particle, 'pbest': particle, 'pbest_distance': self.calculate_distance(particle)})\n",
    "        return particles\n",
    "\n",
    "    def initial_solution(self, mode=\"random\"):\n",
    "        solution = []\n",
    "        unvisited = list(item[0] for item in self.customers)\n",
    "        unvisited.remove(self.depots[0])\n",
    "        random.shuffle(unvisited)\n",
    "        solution = [self.depots[0]] + unvisited + [self.depots[0]]\n",
    "        return solution\n",
    "\n",
    "    def calculate_distance(self, solution):\n",
    "        # Calculate total distance for a solution (same as in Tabu Search)\n",
    "        total_distance = 0.0\n",
    "        num_customers_per_salesman = (len(self.customers)-1) // self.num_salesmen\n",
    "        for i in range(self.num_salesmen):\n",
    "            start = i * num_customers_per_salesman\n",
    "            end = (i + 1) * num_customers_per_salesman if i != self.num_salesmen - 1 else len(self.customers)\n",
    "            total_distance += self.distances[self.depots[0] - 1][solution[start] - 1]\n",
    "            for j in range(start, end - 1):\n",
    "                total_distance += self.distances[solution[j] - 1][solution[j + 1] - 1]\n",
    "            total_distance += self.distances[solution[end - 1] - 1][self.depots[0] - 1]\n",
    "        return total_distance\n",
    "\n",
    "    def get_global_best(self):\n",
    "        best_particle = min(self.particles, key=lambda p: p['pbest_distance'])\n",
    "        return best_particle\n",
    "\n",
    "    # def update_velocity_and_position(self):\n",
    "\n",
    "    #     for i, particle in enumerate(self.particles):\n",
    "    #         for j in range(len(particle['position'])):\n",
    "    #             r1 = random.random()\n",
    "    #             r2 = random.random()\n",
    "    #             cognitive_velocity = self.c1 * r1 * (particle['pbest'][j] - particle['position'][j])\n",
    "    #             social_velocity = self.c2 * r2 * (self.global_best['position'][j] - particle['position'][j])\n",
    "                \n",
    "    #             # Update velocity\n",
    "    #             if j < len(self.velocity[i]):\n",
    "    #                 self.velocity[i][j] = self.w * self.velocity[i][j] + cognitive_velocity + social_velocity\n",
    "    #             else:\n",
    "    #                 # Handle cases where the velocity index might be out of range\n",
    "    #                 self.velocity[i].append(self.w * 0 + cognitive_velocity + social_velocity)\n",
    "\n",
    "    #         # Update position based on new velocity\n",
    "    #         for k in range(len(particle['position'])):\n",
    "    #             # Ensure position index is within bounds\n",
    "    #             new_position = int(particle['position'][k] + self.velocity[i][k])\n",
    "    #             if new_position >= len(self.customers):\n",
    "    #                 new_position = len(self.customers) - 1\n",
    "    #             elif new_position < 0:\n",
    "    #                 new_position = 0\n",
    "    #             particle['position'][k] = new_position\n",
    "        # better for eil23\n",
    "    def update_velocity_and_position(self):\n",
    "            \n",
    "        velocity_limit = 1.0  \n",
    "\n",
    "        for i, particle in enumerate(self.particles):\n",
    "            if len(self.velocity[i]) != len(particle['position']):\n",
    "                self.velocity[i] = [random.uniform(-1, 1) for _ in range(len(particle['position']))]\n",
    "            for j in range(len(particle['position'])):\n",
    "                r1 = random.random()\n",
    "                r2 = random.random()\n",
    "\n",
    "                cognitive_velocity = self.c1 * r1 * (particle['pbest'][j] - particle['position'][j])\n",
    "                social_velocity = self.c2 * r2 * (self.global_best['pbest'][j] - particle['position'][j])\n",
    "                    \n",
    "                # update velocity\n",
    "                new_velocity = self.w * self.velocity[i][j] + cognitive_velocity + social_velocity\n",
    "                new_velocity = max(min(new_velocity, velocity_limit), -velocity_limit)\n",
    "                self.velocity[i][j] = new_velocity\n",
    "\n",
    "            # update position\n",
    "            for k in range(len(particle['position'])):\n",
    "                        \n",
    "                new_position = particle['position'][k] + self.velocity[i][k]\n",
    "\n",
    "                        \n",
    "                new_position = int(round(new_position))\n",
    "\n",
    "                        \n",
    "                if new_position >= len(self.customers):\n",
    "                    new_position = len(self.customers) - 1\n",
    "                elif new_position < 0:\n",
    "                    new_position = 0\n",
    "\n",
    "                particle['position'][k] = new_position\n",
    "\n",
    "\n",
    "    def run(self):\n",
    "        for _ in range(self.max_iterations):\n",
    "            for particle in self.particles:\n",
    "                # Update velocity and position\n",
    "                self.update_velocity_and_position()\n",
    "                # Calculate distance for new position\n",
    "                distance = self.calculate_distance(particle['position'])\n",
    "                # Update personal best if necessary\n",
    "                if distance < particle['pbest_distance']:\n",
    "                    particle['pbest'] = particle['position']\n",
    "                    particle['pbest_distance'] = distance\n",
    "                    # Update global best if necessary\n",
    "                    if distance < self.global_best['pbest_distance']:\n",
    "                        self.global_best = particle\n",
    "            self.fitness_history.append(self.global_best['pbest_distance'])\n",
    "        return self.global_best['position'], self.global_best['pbest_distance'], self.fitness_history\n"
   ]
  },
  {
   "cell_type": "code",
   "execution_count": 5,
   "metadata": {},
   "outputs": [],
   "source": [
    "pso = PSO_mTSP(cities, distances, demands, depots, capacity, 3, w = 0.2,c1 = 0.05,c2 = 0.15,num_particles=100, max_iterations=1000) #eil23\n",
    "# pso = PSO_mTSP(cities, distances, demands, depots, capacity, 3, w = 0.5, c1 = 1, c2 = 2, num_particles=30, max_iterations=100) #eil51\n",
    "# pso = PSO_mTSP(cities, distances, demands, depots, capacity, 3, w = 0.5,c1 = 1,c2 = 2,num_particles=30, max_iterations=1000) #eil76\n",
    "best_routes, best_distance, fitness_history = pso.run()"
   ]
  },
  {
   "cell_type": "code",
   "execution_count": 10,
   "metadata": {},
   "outputs": [
    {
     "data": {
      "text/plain": [
       "407.4950194790908"
      ]
     },
     "execution_count": 10,
     "metadata": {},
     "output_type": "execute_result"
    }
   ],
   "source": [
    "best_distance"
   ]
  },
  {
   "cell_type": "code",
   "execution_count": 11,
   "metadata": {},
   "outputs": [
    {
     "data": {
      "image/png": "[encoded data removed]",
      "text/plain": [
       "<Figure size 640x480 with 1 Axes>"
      ]
     },
     "metadata": {},
     "output_type": "display_data"
    }
   ],
   "source": [
    "plt.plot(fitness_history,label = 'PSO')\n",
    "plt.title('Algorithm')\n",
    "plt.xlabel('Iteration')\n",
    "plt.ylabel('Best Fitness (distances)')\n",
    "plt.legend()\n",
    "plt.show()"
   ]
  },
  {
   "cell_type": "code",
   "execution_count": 12,
   "metadata": {},
   "outputs": [],
   "source": [
    "class ACO_mTSP:\n",
    "    def __init__(self, cities, num_salesmen, num_ants, evaporation_rate, alpha, beta, iterations):\n",
    "        self.cities = np.array(cities)[:, 1:]\n",
    "        self.depot = self.cities[0]  \n",
    "        self.num_cities = len(self.cities)\n",
    "        self.num_salesmen = num_salesmen\n",
    "        self.pheromones = np.ones((self.num_cities, self.num_cities))\n",
    "        self.num_ants = num_ants\n",
    "        self.evaporation_rate = evaporation_rate\n",
    "        self.alpha = alpha\n",
    "        self.beta = beta\n",
    "        self.iterations = iterations\n",
    "\n",
    "    def distance(self, city1, city2):\n",
    "        return np.linalg.norm(city1 - city2)\n",
    "\n",
    "\n",
    "    def construct_routes(self):\n",
    "        all_routes = []\n",
    "        all_route_lengths = []\n",
    "\n",
    "        for ant in range(self.num_ants):\n",
    "            routes = [[] for _ in range(self.num_salesmen)]  \n",
    "            remaining_cities = set(range(1, self.num_cities))  \n",
    "\n",
    "            while remaining_cities:\n",
    "                for route in routes:\n",
    "                    if not remaining_cities:\n",
    "                        break\n",
    "                    current_city = route[-1] if route else 0  # If the route is empty, start from the starting point\n",
    "                    probabilities = self.calculate_probabilities(current_city, remaining_cities)\n",
    "                    next_city = np.random.choice(list(remaining_cities), p=probabilities)\n",
    "                    route.append(next_city)\n",
    "                    remaining_cities.remove(next_city)\n",
    "\n",
    "            \n",
    "            for route in routes:\n",
    "                route.append(0)  # Go back to starting point\n",
    "\n",
    "            all_routes.append(routes)\n",
    "            all_route_lengths.append(self.calculate_total_route_length(routes))\n",
    "\n",
    "        return all_routes, all_route_lengths\n",
    "\n",
    "    def calculate_probabilities(self, current_city, remaining_cities):\n",
    "        probabilities = []\n",
    "        total = 0\n",
    "        for next_city in remaining_cities:\n",
    "            tau = self.pheromones[current_city][next_city] ** self.alpha\n",
    "            eta = (1 / self.distance(self.cities[current_city], self.cities[next_city])) ** self.beta\n",
    "            probability = tau * eta\n",
    "            probabilities.append(probability)\n",
    "            total += probability\n",
    "\n",
    "        return [p / total for p in probabilities]\n",
    "\n",
    "\n",
    "    def calculate_total_route_length(self, routes):\n",
    "        total_length = 0\n",
    "        for route in routes:\n",
    "            for i in range(len(route)-1):\n",
    "                route_length = self.distance(self.cities[route[i]], self.cities[route[i + 1]])\n",
    "                total_length += route_length\n",
    "        return total_length\n",
    "\n",
    "    def update_pheromones(self, all_routes, all_route_lengths):\n",
    "        self.pheromones *= (1 - self.evaporation_rate)\n",
    "        for routes, total_length in zip(all_routes, all_route_lengths):\n",
    "            for route in routes:\n",
    "                for i in range(len(route) - 1):\n",
    "                    self.pheromones[route[i]][route[i + 1]] += 1 / total_length\n",
    "\n",
    "    def run(self):\n",
    "        best_distance = float('inf')\n",
    "        best_routes = None\n",
    "        fitness_history = []\n",
    "\n",
    "        for iteration in range(self.iterations):\n",
    "            all_routes, all_route_lengths = self.construct_routes()\n",
    "            self.update_pheromones(all_routes, all_route_lengths)\n",
    "\n",
    "            total_route_length = min(all_route_lengths)\n",
    "            if total_route_length < best_distance:\n",
    "                best_distance = total_route_length\n",
    "                best_routes = all_routes[all_route_lengths.index(total_route_length)]\n",
    "            fitness_history.append(best_distance)\n",
    "\n",
    "        return best_routes, best_distance, fitness_history\n"
   ]
  },
  {
   "cell_type": "code",
   "execution_count": 13,
   "metadata": {},
   "outputs": [],
   "source": [
    "# aco = ACO_mTSP(cities, num_salesmen=3, num_ants=30, evaporation_rate=0.5, alpha=1, beta=1.5, iterations=100) #eil23\n",
    "aco = ACO_mTSP(cities, num_salesmen=3, num_ants=30, evaporation_rate=0.5, alpha=1, beta=1.5, iterations=100) #eil51\n",
    "# aco = ACO_mTSP(cities, num_salesmen=3, num_ants=30, evaporation_rate=0.5, alpha=1, beta=2, iterations=100) #eil76\n",
    "best_routes, best_distance, fitness_history = aco.run()"
   ]
  },
  {
   "cell_type": "code",
   "execution_count": null,
   "metadata": {},
   "outputs": [
    {
     "data": {
      "text/plain": [
       "523.9472842435289"
      ]
     },
     "execution_count": 21,
     "metadata": {},
     "output_type": "execute_result"
    }
   ],
   "source": [
    "best_distance"
   ]
  },
  {
   "cell_type": "code",
   "execution_count": null,
   "metadata": {},
   "outputs": [
    {
     "data": {
      "image/png": "[encoded data removed]",
      "text/plain": [
       "<Figure size 640x480 with 1 Axes>"
      ]
     },
     "metadata": {},
     "output_type": "display_data"
    }
   ],
   "source": [
    "plt.plot(fitness_history,label = 'ACO')\n",
    "plt.title('Algorithm')\n",
    "plt.xlabel('Iteration')\n",
    "plt.ylabel('Best Fitness (distances)')\n",
    "plt.legend()\n",
    "plt.show()"
   ]
  },
  {
   "cell_type": "code",
   "execution_count": 14,
   "metadata": {},
   "outputs": [],
   "source": [
    "class TS_mTSP:\n",
    "    def __init__(self, customers, distances, demands, depots, capacity, num_salesmen, tab_length, max_iterations=20):\n",
    "        self.customers = customers\n",
    "        self.distances = distances\n",
    "        self.demands = demands\n",
    "        self.depots = depots\n",
    "        self.capacity = capacity\n",
    "        self.num_salesmen = num_salesmen\n",
    "        self.n = len(customers)\n",
    "        self.max_iterations = max_iterations\n",
    "        self.tabu_list = [([0] * self.n) for i in range(self.n)]\n",
    "        # self.tab_length = int(self.n // 5)\n",
    "        self.tab_length = tab_length\n",
    "        self.best_solution = self.initial_solution(mode='random')\n",
    "        self.best_distance = self.calculate_distance(self.best_solution)\n",
    "        self.fitness_history = []\n",
    "\n",
    "    def initial_solution(self, mode=\"random\"):\n",
    "        solution = []\n",
    "        unvisited = list(item[0] for item in self.customers)\n",
    "        unvisited.remove(self.depots[0])\n",
    "        count = len(unvisited)\n",
    "        solution.append(self.depots[0])\n",
    "        while(count!=0):\n",
    "            index = random.randint(0, count - 1)\n",
    "            current = unvisited[index]\n",
    "            solution.append(current)\n",
    "            unvisited.remove(current)\n",
    "            count -= 1\n",
    "        solution.append(self.depots[0])\n",
    "        return solution\n",
    "\n",
    "    def generate_neighborhood(self, solution):\n",
    "        for i in range(1, len(solution) - 1):  # not include depot\n",
    "            for j in range(i + 1, len(solution) - 1):  # not include depot\n",
    "                if i != j:\n",
    "                    neighbor = solution[:]  # copy solution    \n",
    "                    # exchange position\n",
    "                    neighbor[i], neighbor[j] = neighbor[j], neighbor[i]\n",
    "                    yield neighbor, (i, j)\n",
    "\n",
    "    def calculate_distance(self, solution):\n",
    "        total_distance = 0.0\n",
    "        num_customers_per_salesman = (len(self.customers)-1) // self.num_salesmen\n",
    "        for i in range(self.num_salesmen):\n",
    "            start = i * num_customers_per_salesman\n",
    "            end = (i + 1) * num_customers_per_salesman if i != self.num_salesmen - 1 else len(self.customers)\n",
    "            total_distance += self.distances[self.depots[0] - 1][solution[start] - 1]\n",
    "            for j in range(start, end - 1):\n",
    "                total_distance += self.distances[solution[j] - 1][solution[j + 1] - 1]\n",
    "            total_distance += self.distances[solution[end - 1] - 1][self.depots[0] - 1]\n",
    "        return total_distance\n",
    "\n",
    "    def update_tabu_list(self, move):\n",
    "        for i in range(self.n):\n",
    "            for j in range(self.n-i):\n",
    "                if self.tabu_list[i][j] != 0:\n",
    "                    self.tabu_list[i][j] -= 1\n",
    "        self.tabu_list[move[0]][move[1]] = self.tab_length\n",
    "\n",
    "    def is_tabu(self, move):\n",
    "        return self.tabu_list[move[0]][move[1]] != 0\n",
    "\n",
    "    def run(self):\n",
    "        for _ in range(self.max_iterations):\n",
    "            neighborhood = self.generate_neighborhood(self.best_solution)\n",
    "            for neighbor, move in neighborhood:\n",
    "                if not self.is_tabu(move):\n",
    "                    distance = self.calculate_distance(neighbor)\n",
    "                    if distance < self.best_distance:\n",
    "                        self.best_solution = neighbor\n",
    "                        self.best_distance = distance\n",
    "                        self.update_tabu_list(move)\n",
    "            self.fitness_history.append(self.best_distance)\n",
    "        return self.best_solution, self.best_distance, self.fitness_history"
   ]
  },
  {
   "cell_type": "code",
   "execution_count": 15,
   "metadata": {},
   "outputs": [
    {
     "data": {
      "text/plain": [
       "662.1375456422242"
      ]
     },
     "execution_count": 15,
     "metadata": {},
     "output_type": "execute_result"
    }
   ],
   "source": [
    "# ts = TS_mTSP(cities, distances, demands, depots, capacity, 3, 12, 1000) #eil23\n",
    "ts = TS_mTSP(cities, distances, demands, depots, capacity, 3, 10, 1000) #eil51\n",
    "# ts = TS_mTSP(cities, distances, demands, depots, capacity, 3, 15, 1000) #eil76\n",
    "best_solution, best_distance, fitness_history = ts.run()"
   ]
  },
  {
   "cell_type": "code",
   "execution_count": null,
   "metadata": {},
   "outputs": [
    {
     "data": {
      "text/plain": [
       "606.9073089839152"
      ]
     },
     "execution_count": 22,
     "metadata": {},
     "output_type": "execute_result"
    }
   ],
   "source": [
    "best_distance"
   ]
  },
  {
   "cell_type": "code",
   "execution_count": null,
   "metadata": {},
   "outputs": [
    {
     "data": {
      "image/png": "[encoded data removed]",
      "text/plain": [
       "<Figure size 640x480 with 1 Axes>"
      ]
     },
     "metadata": {},
     "output_type": "display_data"
    }
   ],
   "source": [
    "plt.plot(fitness_history,label = 'TS')\n",
    "plt.title('Algorithm')\n",
    "plt.xlabel('Iteration')\n",
    "plt.ylabel('Best Fitness (distances)')\n",
    "plt.legend()\n",
    "plt.show()"
   ]
  },
  {
   "cell_type": "code",
   "execution_count": 16,
   "metadata": {},
   "outputs": [],
   "source": [
    "class SA_mTSP:\n",
    "    def __init__(self, customers, distances, demands, depots, capacity, num_salesmen, max_iterations=1000, alpha=0.9, initial_temp=100):\n",
    "        self.customers = customers\n",
    "        self.distances = distances\n",
    "        self.demands = demands\n",
    "        self.depots = depots\n",
    "        self.capacity = capacity\n",
    "        self.num_salesmen = num_salesmen\n",
    "        self.n = len(customers)\n",
    "        self.max_iterations = max_iterations\n",
    "        self.alpha = alpha\n",
    "        self.initial_temp = initial_temp\n",
    "        self.best_solution = self.initial_solution(mode='random')\n",
    "        self.best_distance = self.calculate_distance(self.best_solution)\n",
    "        self.fitness_history = []\n",
    "\n",
    "    def initial_solution(self, mode=\"random\"):\n",
    "        solution = []\n",
    "        unvisited = list(item[0] for item in self.customers)\n",
    "        unvisited.remove(self.depots[0])\n",
    "        count = len(unvisited)\n",
    "        solution.append(self.depots[0])\n",
    "        while(count!=0):\n",
    "            index = random.randint(0, count - 1)\n",
    "            current = unvisited[index]\n",
    "            solution.append(current)\n",
    "            unvisited.remove(current)\n",
    "            count -= 1\n",
    "        solution.append(self.depots[0])\n",
    "        return solution\n",
    "\n",
    "    def generate_neighborhood(self, solution):\n",
    "\n",
    "        for i in range(1, len(solution) - 1):  \n",
    "            for j in range(i + 1, len(solution) - 1):  \n",
    "                if i != j:\n",
    "                    neighbor = solution[:]     \n",
    "                    \n",
    "                    neighbor[i], neighbor[j] = neighbor[j], neighbor[i]\n",
    "                    yield neighbor, (i, j)\n",
    "\n",
    "    def calculate_distance(self, solution):\n",
    "        \n",
    "        total_distance = 0.0\n",
    "        num_customers_per_salesman = len(self.customers) // self.num_salesmen\n",
    "        for i in range(self.num_salesmen):\n",
    "            start = i * num_customers_per_salesman\n",
    "            end = (i + 1) * num_customers_per_salesman if i != self.num_salesmen - 1 else len(self.customers)\n",
    "            total_distance += self.distances[self.depots[0] - 1][solution[start] - 1]\n",
    "            for j in range(start, end - 1):\n",
    "                total_distance += self.distances[solution[j] - 1][solution[j + 1] - 1]\n",
    "            total_distance += self.distances[solution[end - 1] - 1][self.depots[0] - 1]\n",
    "        return total_distance\n",
    "\n",
    "    def acceptance_probability(self, old_cost, new_cost, temp):\n",
    "        return math.exp((old_cost - new_cost) / temp)\n",
    "\n",
    "    def run(self):\n",
    "        current_solution = self.best_solution\n",
    "        current_cost = self.best_distance\n",
    "        temp = self.initial_temp\n",
    "\n",
    "        for i in range(self.max_iterations):\n",
    "            neighborhood = list(self.generate_neighborhood(current_solution))\n",
    "            neighbor, move = random.choice(neighborhood)\n",
    "            neighbor_cost = self.calculate_distance(neighbor)\n",
    "            if neighbor_cost < current_cost or random.random() < self.acceptance_probability(current_cost, neighbor_cost, temp):\n",
    "                current_solution = neighbor\n",
    "                current_cost = neighbor_cost\n",
    "            temp *= self.alpha\n",
    "            self.fitness_history.append(current_cost)\n",
    "\n",
    "        return current_solution, current_cost, self.fitness_history"
   ]
  },
  {
   "cell_type": "code",
   "execution_count": 17,
   "metadata": {},
   "outputs": [],
   "source": [
    "# sa = SA_mTSP(cities, distances, demands, depots, capacity, 3, max_iterations=1000, alpha=0.99, initial_temp=1000) #eil23\n",
    "sa = SA_mTSP(cities, distances, demands, depots, capacity, 3, max_iterations=10000, alpha=0.995, initial_temp=1000) #eil51\n",
    "# sa = SA_mTSP(cities, distances, demands, depots, capacity, 3, max_iterations=5000, alpha=0.999, initial_temp=1) #eil76 \n",
    "best_solution, best_distance, fitness_history = sa.run()"
   ]
  },
  {
   "cell_type": "code",
   "execution_count": null,
   "metadata": {},
   "outputs": [
    {
     "data": {
      "text/plain": [
       "620.9478569865311"
      ]
     },
     "execution_count": 186,
     "metadata": {},
     "output_type": "execute_result"
    }
   ],
   "source": [
    "best_distance"
   ]
  },
  {
   "cell_type": "code",
   "execution_count": null,
   "metadata": {},
   "outputs": [
    {
     "data": {
      "image/png": "[encoded data removed]",
      "text/plain": [
       "<Figure size 640x480 with 1 Axes>"
      ]
     },
     "metadata": {},
     "output_type": "display_data"
    }
   ],
   "source": [
    "plt.plot(fitness_history,label = 'SA')\n",
    "plt.title('Algorithm')\n",
    "plt.xlabel('Iteration')\n",
    "plt.ylabel('Best Fitness (distances)')\n",
    "plt.legend()\n",
    "plt.show()"
   ]
  }
 ],
 "metadata": {
  "kernelspec": {
   "display_name": "Python 3.11.4 64-bit",
   "language": "python",
   "name": "python3"
  },
  "language_info": {
   "codemirror_mode": {
    "name": "ipython",
    "version": 3
   },
   "file_extension": ".py",
   "mimetype": "text/x-python",
   "name": "python",
   "nbconvert_exporter": "python",
   "pygments_lexer": "ipython3",
   "version": "3.11.4"
  },
  "orig_nbformat": 4,
  "vscode": {
   "interpreter": {
    "hash": "a75b28f9753f4e2f1476ae5e5ad4b4ab71094e0d64ff40d9df34ddf691f3c573"
   }
  }
 },
 "nbformat": 4,
 "nbformat_minor": 2
}
